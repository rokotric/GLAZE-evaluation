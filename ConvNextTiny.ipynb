{
 "cells": [
  {
   "cell_type": "code",
   "execution_count": 38,
   "id": "7c83348a",
   "metadata": {},
   "outputs": [
    {
     "name": "stdout",
     "output_type": "stream",
     "text": [
      "Modules Loaded\n"
     ]
    }
   ],
   "source": [
    "import os\n",
    "import datetime\n",
    "import itertools\n",
    "\n",
    "import numpy as np\n",
    "import pandas as pd\n",
    "import seaborn as sns\n",
    "import matplotlib.pyplot as plt\n",
    "from sklearn.model_selection import train_test_split\n",
    "from sklearn.metrics import classification_report, confusion_matrix\n",
    "\n",
    "import tensorflow as tf\n",
    "from tensorflow import keras\n",
    "from tensorflow.keras.models import Model\n",
    "from tensorflow.keras.optimizers import Adam\n",
    "from tensorflow.keras.preprocessing.image import ImageDataGenerator\n",
    "from tensorflow.keras.layers import Dense, Flatten, Dropout\n",
    "from tensorflow.keras.applications import ConvNeXtTiny\n",
    "from tensorflow.keras.callbacks import ModelCheckpoint, EarlyStopping, ReduceLROnPlateau\n",
    "\n",
    "import warnings\n",
    "warnings.filterwarnings('ignore')\n",
    "\n",
    "print('Modules Loaded')"
   ]
  },
  {
   "cell_type": "code",
   "execution_count": 39,
   "id": "114c9a51",
   "metadata": {},
   "outputs": [],
   "source": [
    "log_dir = r\"D:\\GLAZE-evaluation\\log\\\\\" + datetime.datetime.now().strftime(\"%Y%m%d-%H%M%S\")\n",
    "tensorboard_callback = tf.keras.callbacks.TensorBoard(log_dir=log_dir)"
   ]
  },
  {
   "cell_type": "code",
   "execution_count": 40,
   "id": "9a42d098",
   "metadata": {},
   "outputs": [],
   "source": [
    "data_path = r\"D:\\GLAZE-evaluation\\dataset\\train\"\n",
    "\n",
    "images = []\n",
    "labels = []\n",
    "\n",
    "for subfolder in os.listdir(data_path):\n",
    "    subfolder_path = os.path.join(data_path, subfolder)\n",
    "    if not os.path.isdir(subfolder_path):\n",
    "        continue\n",
    "\n",
    "    for image_filename in os.listdir(subfolder_path):\n",
    "        full_image_path = os.path.join(subfolder_path, image_filename)\n",
    "        images.append(full_image_path)\n",
    "        labels.append(subfolder)\n",
    "        \n",
    "data = pd.DataFrame({'image': images, 'label': labels})"
   ]
  },
  {
   "cell_type": "code",
   "execution_count": 41,
   "id": "de685955",
   "metadata": {},
   "outputs": [
    {
     "name": "stdout",
     "output_type": "stream",
     "text": [
      "Total images found: 400\n",
      "Train DF size: 320\n",
      "Validation DF size: 40\n",
      "Test DF size: 40\n"
     ]
    }
   ],
   "source": [
    "train_df, valid_test_df = train_test_split(\n",
    "    data, \n",
    "    test_size=0.2, # 20% for validation/test\n",
    "    stratify=data['label'], \n",
    "    random_state=123\n",
    ")\n",
    "\n",
    "valid_df, test_df = train_test_split(\n",
    "    valid_test_df, \n",
    "    test_size=0.5, # Split the 20% into two 10% halves\n",
    "    stratify=valid_test_df['label'], \n",
    "    random_state=123\n",
    ")\n",
    "\n",
    "train_df = train_df.reset_index(drop=True)\n",
    "valid_df = valid_df.reset_index(drop=True)\n",
    "test_df = test_df.reset_index(drop=True)\n",
    "\n",
    "print(f\"Total images found: {len(data)}\")\n",
    "print(f\"Train DF size: {len(train_df)}\")\n",
    "print(f\"Validation DF size: {len(valid_df)}\")\n",
    "print(f\"Test DF size: {len(test_df)}\")"
   ]
  },
  {
   "cell_type": "code",
   "execution_count": 42,
   "id": "38b64829",
   "metadata": {},
   "outputs": [
    {
     "data": {
      "text/plain": [
       "(400, 2)"
      ]
     },
     "execution_count": 42,
     "metadata": {},
     "output_type": "execute_result"
    }
   ],
   "source": [
    "data.shape"
   ]
  },
  {
   "cell_type": "code",
   "execution_count": 43,
   "id": "8affe953",
   "metadata": {},
   "outputs": [
    {
     "name": "stdout",
     "output_type": "stream",
     "text": [
      "Found 320 validated image filenames belonging to 2 classes.\n",
      "Found 40 validated image filenames belonging to 2 classes.\n",
      "Found 40 validated image filenames belonging to 2 classes.\n"
     ]
    }
   ],
   "source": [
    "img_size = (299, 299)\n",
    "channels = 3\n",
    "img_shape = (img_size[0], img_size[1], channels)\n",
    "batch_size = 32\n",
    "\n",
    "# Create a new generator for ConvNeXt (no explicit rescaling needed)\n",
    "# The ConvNeXt model will handle its own normalization internally\n",
    "convnext_datagen = ImageDataGenerator(\n",
    "    rotation_range=20,\n",
    "    width_shift_range=0.1,\n",
    "    height_shift_range=0.1,\n",
    "    horizontal_flip=True,\n",
    "    fill_mode='nearest'\n",
    ")\n",
    "\n",
    "# NOTE: Do NOT use 'rescale=1/255.0' here!\n",
    "# If your images are read as uint8 (0-255), keep rescale=None or 1.0\n",
    "valid_test_datagen = ImageDataGenerator(rescale=1.0)\n",
    "\n",
    "train_gen = convnext_datagen.flow_from_dataframe(\n",
    "    train_df,\n",
    "    x_col='image',\n",
    "    y_col='label',\n",
    "    target_size=img_size,\n",
    "    color_mode='rgb', \n",
    "    class_mode='categorical',\n",
    "    batch_size=batch_size,\n",
    "    shuffle=True,\n",
    ")\n",
    "\n",
    "valid_gen = valid_test_datagen.flow_from_dataframe(\n",
    "    valid_df,\n",
    "    x_col='image',\n",
    "    y_col='label',\n",
    "    target_size=img_size,\n",
    "    class_mode='categorical',\n",
    "    color_mode='rgb',\n",
    "    shuffle=False,\n",
    "    batch_size=batch_size\n",
    ")\n",
    "\n",
    "test_gen = valid_test_datagen.flow_from_dataframe(\n",
    "    test_df,\n",
    "    x_col='image',\n",
    "    y_col='label',\n",
    "    target_size=img_size,\n",
    "    class_mode='categorical',\n",
    "    color_mode='rgb',\n",
    "    shuffle=False,\n",
    "    batch_size=batch_size\n",
    ")"
   ]
  },
  {
   "cell_type": "code",
   "execution_count": 44,
   "id": "903eb89f",
   "metadata": {},
   "outputs": [
    {
     "name": "stdout",
     "output_type": "stream",
     "text": [
      "320\n",
      "40\n",
      "40\n"
     ]
    }
   ],
   "source": [
    "print(len(train_df))\n",
    "print(len(valid_df))\n",
    "print(len(test_df))"
   ]
  },
  {
   "cell_type": "code",
   "execution_count": 45,
   "id": "5418e948",
   "metadata": {},
   "outputs": [
    {
     "name": "stdout",
     "output_type": "stream",
     "text": [
      "WARNING:tensorflow:From d:\\GLAZE-evaluation\\.venv\\Lib\\site-packages\\keras\\src\\backend\\tensorflow\\core.py:232: The name tf.placeholder is deprecated. Please use tf.compat.v1.placeholder instead.\n",
      "\n"
     ]
    }
   ],
   "source": [
    "# Load ConvNeXtTiny with pre-trained weights (weights='imagenet')\n",
    "base_model = ConvNeXtTiny(\n",
    "    include_top=False,           # We add our own classification head\n",
    "    weights='imagenet',          # Use pre-trained weights\n",
    "    input_shape=img_shape,\n",
    "    pooling='avg'                # Use Global Average Pooling (as per your existing code logic)\n",
    ")"
   ]
  },
  {
   "cell_type": "code",
   "execution_count": 46,
   "id": "78dd8373",
   "metadata": {},
   "outputs": [
    {
     "name": "stdout",
     "output_type": "stream",
     "text": [
      "The shape of the last InceptionV3 layer is: (None, 768)\n"
     ]
    }
   ],
   "source": [
    "# Assuming 'base_model' has already been initialized as shown above\n",
    "\n",
    "# 1. Get the output tensor of the InceptionV3 model\n",
    "output_tensor = base_model.output\n",
    "\n",
    "# 2. Print the shape attribute of the tensor\n",
    "print(f\"The shape of the last InceptionV3 layer is: {output_tensor.shape}\")"
   ]
  },
  {
   "cell_type": "code",
   "execution_count": 47,
   "id": "31dbc24b",
   "metadata": {},
   "outputs": [],
   "source": [
    "for layer in base_model.layers:\n",
    "    layer.trainable = False"
   ]
  },
  {
   "cell_type": "code",
   "execution_count": 48,
   "id": "4cdbc839",
   "metadata": {},
   "outputs": [],
   "source": [
    "x = base_model.output\n",
    "# You used GlobalAveragePooling2D in your notebook, but the base_model pooling=avg \n",
    "# already provides the 2D output, so we can skip a separate pooling layer here, \n",
    "# or keep it explicit if you prefer. Let's keep it explicit for clarity.\n",
    "\n",
    "# Since pooling='avg' is set on the base model, x is already a 2D tensor.\n",
    "# We skip GlobalAveragePooling2D here because it's already applied by the base_model argument.\n",
    "# We then directly add the Dense/Dropout layers as in your original script.\n",
    "\n",
    "x = tf.keras.layers.Dense(256, activation='relu')(x) # Example Dense layer\n",
    "x = tf.keras.layers.Dropout(0.5)(x)\n",
    "output = tf.keras.layers.Dense(2, activation='softmax')(x) # Final output layer"
   ]
  },
  {
   "cell_type": "code",
   "execution_count": 49,
   "id": "3d5f2031",
   "metadata": {},
   "outputs": [],
   "source": [
    "convnext_model = tf.keras.models.Model(inputs=base_model.input, outputs=output)"
   ]
  },
  {
   "cell_type": "code",
   "execution_count": 50,
   "id": "6783d845",
   "metadata": {},
   "outputs": [],
   "source": [
    "convnext_model.compile(\n",
    "    optimizer=tf.keras.optimizers.Adam(learning_rate=0.0001), # Use a low LR for fine-tuning\n",
    "    loss='categorical_crossentropy',\n",
    "    metrics=['accuracy']\n",
    ")"
   ]
  },
  {
   "cell_type": "code",
   "execution_count": 51,
   "id": "bed2747e",
   "metadata": {},
   "outputs": [
    {
     "name": "stdout",
     "output_type": "stream",
     "text": [
      "The shape of the last InceptionV3 layer is: (None, 768)\n"
     ]
    }
   ],
   "source": [
    "# Assuming 'base_model' has already been initialized as shown above\n",
    "\n",
    "# 1. Get the output tensor of the InceptionV3 model\n",
    "output_tensor = base_model.output\n",
    "\n",
    "# 2. Print the shape attribute of the tensor\n",
    "print(f\"The shape of the last InceptionV3 layer is: {output_tensor.shape}\")"
   ]
  },
  {
   "cell_type": "code",
   "execution_count": 52,
   "id": "5a319a07",
   "metadata": {},
   "outputs": [],
   "source": [
    "checkpoint = ModelCheckpoint(\n",
    "    'roko_style.h5', \n",
    "    monitor='val_accuracy', \n",
    "    save_best_only=True, \n",
    "    mode='max', \n",
    "    verbose=1\n",
    ")\n",
    "\n",
    "early_stopping = EarlyStopping(\n",
    "    monitor='val_loss', \n",
    "    patience=5, \n",
    "    restore_best_weights=True\n",
    ")\n",
    "\n",
    "reduce_lr = ReduceLROnPlateau(\n",
    "    monitor='val_loss',\n",
    "    factor=0.2,\n",
    "    patience=3,\n",
    "    min_lr=0.00001,\n",
    ")"
   ]
  },
  {
   "cell_type": "code",
   "execution_count": 53,
   "id": "e79f8ddd",
   "metadata": {},
   "outputs": [
    {
     "name": "stdout",
     "output_type": "stream",
     "text": [
      "Epoch 1/5\n",
      "\u001b[1m10/10\u001b[0m \u001b[32m━━━━━━━━━━━━━━━━━━━━\u001b[0m\u001b[37m\u001b[0m \u001b[1m0s\u001b[0m 10s/step - accuracy: 0.4827 - loss: 1.1434\n",
      "Epoch 1: val_accuracy improved from None to 0.40625, saving model to roko_style.h5\n"
     ]
    },
    {
     "name": "stderr",
     "output_type": "stream",
     "text": [
      "WARNING:absl:You are saving your model as an HDF5 file via `model.save()` or `keras.saving.save_model(model)`. This file format is considered legacy. We recommend using instead the native Keras format, e.g. `model.save('my_model.keras')` or `keras.saving.save_model(model, 'my_model.keras')`. \n"
     ]
    },
    {
     "name": "stdout",
     "output_type": "stream",
     "text": [
      "\u001b[1m10/10\u001b[0m \u001b[32m━━━━━━━━━━━━━━━━━━━━\u001b[0m\u001b[37m\u001b[0m \u001b[1m118s\u001b[0m 11s/step - accuracy: 0.5219 - loss: 1.0712 - val_accuracy: 0.4062 - val_loss: 0.8863 - learning_rate: 1.0000e-04\n",
      "Epoch 2/5\n",
      "\u001b[1m10/10\u001b[0m \u001b[32m━━━━━━━━━━━━━━━━━━━━\u001b[0m\u001b[37m\u001b[0m \u001b[1m0s\u001b[0m 10s/step - accuracy: 0.5528 - loss: 0.9479 \n",
      "Epoch 2: val_accuracy improved from 0.40625 to 0.59375, saving model to roko_style.h5\n"
     ]
    },
    {
     "name": "stderr",
     "output_type": "stream",
     "text": [
      "WARNING:absl:You are saving your model as an HDF5 file via `model.save()` or `keras.saving.save_model(model)`. This file format is considered legacy. We recommend using instead the native Keras format, e.g. `model.save('my_model.keras')` or `keras.saving.save_model(model, 'my_model.keras')`. \n"
     ]
    },
    {
     "name": "stdout",
     "output_type": "stream",
     "text": [
      "\u001b[1m10/10\u001b[0m \u001b[32m━━━━━━━━━━━━━━━━━━━━\u001b[0m\u001b[37m\u001b[0m \u001b[1m115s\u001b[0m 12s/step - accuracy: 0.5719 - loss: 0.9074 - val_accuracy: 0.5938 - val_loss: 0.7336 - learning_rate: 1.0000e-04\n",
      "Epoch 3/5\n",
      "\u001b[1m10/10\u001b[0m \u001b[32m━━━━━━━━━━━━━━━━━━━━\u001b[0m\u001b[37m\u001b[0m \u001b[1m0s\u001b[0m 10s/step - accuracy: 0.5953 - loss: 0.8993\n",
      "Epoch 3: val_accuracy improved from 0.59375 to 0.65625, saving model to roko_style.h5\n"
     ]
    },
    {
     "name": "stderr",
     "output_type": "stream",
     "text": [
      "WARNING:absl:You are saving your model as an HDF5 file via `model.save()` or `keras.saving.save_model(model)`. This file format is considered legacy. We recommend using instead the native Keras format, e.g. `model.save('my_model.keras')` or `keras.saving.save_model(model, 'my_model.keras')`. \n"
     ]
    },
    {
     "name": "stdout",
     "output_type": "stream",
     "text": [
      "\u001b[1m10/10\u001b[0m \u001b[32m━━━━━━━━━━━━━━━━━━━━\u001b[0m\u001b[37m\u001b[0m \u001b[1m110s\u001b[0m 11s/step - accuracy: 0.6094 - loss: 0.8151 - val_accuracy: 0.6562 - val_loss: 0.6331 - learning_rate: 1.0000e-04\n",
      "Epoch 4/5\n",
      "\u001b[1m10/10\u001b[0m \u001b[32m━━━━━━━━━━━━━━━━━━━━\u001b[0m\u001b[37m\u001b[0m \u001b[1m0s\u001b[0m 10s/step - accuracy: 0.6533 - loss: 0.7509 \n",
      "Epoch 4: val_accuracy improved from 0.65625 to 0.68750, saving model to roko_style.h5\n"
     ]
    },
    {
     "name": "stderr",
     "output_type": "stream",
     "text": [
      "WARNING:absl:You are saving your model as an HDF5 file via `model.save()` or `keras.saving.save_model(model)`. This file format is considered legacy. We recommend using instead the native Keras format, e.g. `model.save('my_model.keras')` or `keras.saving.save_model(model, 'my_model.keras')`. \n"
     ]
    },
    {
     "name": "stdout",
     "output_type": "stream",
     "text": [
      "\u001b[1m10/10\u001b[0m \u001b[32m━━━━━━━━━━━━━━━━━━━━\u001b[0m\u001b[37m\u001b[0m \u001b[1m117s\u001b[0m 12s/step - accuracy: 0.6656 - loss: 0.6965 - val_accuracy: 0.6875 - val_loss: 0.5614 - learning_rate: 1.0000e-04\n",
      "Epoch 5/5\n",
      "\u001b[1m10/10\u001b[0m \u001b[32m━━━━━━━━━━━━━━━━━━━━\u001b[0m\u001b[37m\u001b[0m \u001b[1m0s\u001b[0m 10s/step - accuracy: 0.7401 - loss: 0.5532 \n",
      "Epoch 5: val_accuracy improved from 0.68750 to 0.71875, saving model to roko_style.h5\n"
     ]
    },
    {
     "name": "stderr",
     "output_type": "stream",
     "text": [
      "WARNING:absl:You are saving your model as an HDF5 file via `model.save()` or `keras.saving.save_model(model)`. This file format is considered legacy. We recommend using instead the native Keras format, e.g. `model.save('my_model.keras')` or `keras.saving.save_model(model, 'my_model.keras')`. \n"
     ]
    },
    {
     "name": "stdout",
     "output_type": "stream",
     "text": [
      "\u001b[1m10/10\u001b[0m \u001b[32m━━━━━━━━━━━━━━━━━━━━\u001b[0m\u001b[37m\u001b[0m \u001b[1m115s\u001b[0m 12s/step - accuracy: 0.7406 - loss: 0.5502 - val_accuracy: 0.7188 - val_loss: 0.5100 - learning_rate: 1.0000e-04\n"
     ]
    }
   ],
   "source": [
    "history = convnext_model.fit(\n",
    "    train_gen,\n",
    "    steps_per_epoch=train_gen.samples // batch_size,\n",
    "    validation_data=valid_gen,\n",
    "    validation_steps=valid_gen.samples // batch_size,\n",
    "    epochs=5,\n",
    "    callbacks=[checkpoint, early_stopping, reduce_lr, tensorboard_callback]\n",
    ")"
   ]
  },
  {
   "cell_type": "code",
   "execution_count": 55,
   "id": "3d44e58d",
   "metadata": {},
   "outputs": [
    {
     "name": "stderr",
     "output_type": "stream",
     "text": [
      "WARNING:absl:You are saving your model as an HDF5 file via `model.save()` or `keras.saving.save_model(model)`. This file format is considered legacy. We recommend using instead the native Keras format, e.g. `model.save('my_model.keras')` or `keras.saving.save_model(model, 'my_model.keras')`. \n"
     ]
    }
   ],
   "source": [
    "convnext_model.load_weights('roko_style.h5')\n",
    "convnext_model.save('roko_style_predictor.h5')"
   ]
  },
  {
   "cell_type": "code",
   "execution_count": 57,
   "id": "89bd76b4",
   "metadata": {},
   "outputs": [
    {
     "name": "stdout",
     "output_type": "stream",
     "text": [
      "\u001b[1m2/2\u001b[0m \u001b[32m━━━━━━━━━━━━━━━━━━━━\u001b[0m\u001b[37m\u001b[0m \u001b[1m12s\u001b[0m 2s/step - accuracy: 0.7750 - loss: 0.4502\n",
      "Test Accuracy: 0.7750\n",
      "Test Loss: 0.4502\n"
     ]
    }
   ],
   "source": [
    "test_loss, test_acc = convnext_model.evaluate(test_gen)\n",
    "print(f'Test Accuracy: {test_acc:.4f}')\n",
    "print(f'Test Loss: {test_loss:.4f}')"
   ]
  },
  {
   "cell_type": "code",
   "execution_count": 58,
   "id": "a97a3368",
   "metadata": {},
   "outputs": [
    {
     "data": {
      "image/png": "[encoded data removed]",
      "text/plain": [
       "<Figure size 1200x400 with 2 Axes>"
      ]
     },
     "metadata": {},
     "output_type": "display_data"
    }
   ],
   "source": [
    "plt.figure(figsize=(12,4))\n",
    "    \n",
    "    # Subplot Accuracy\n",
    "plt.subplot(1, 2, 1)\n",
    "plt.plot(history.history['accuracy'], label='Train Accuracy')\n",
    "plt.plot(history.history['val_accuracy'], label='Validation Accuracy')\n",
    "plt.title('Model Accuracy')\n",
    "plt.xlabel('Epochs')\n",
    "plt.ylabel('Accuracy')\n",
    "plt.legend()\n",
    "\n",
    "# Subplot Loss\n",
    "plt.subplot(1, 2, 2)\n",
    "plt.plot(history.history['loss'], label='Train Loss')\n",
    "plt.plot(history.history['val_loss'], label='Validation Loss')\n",
    "plt.title('Model Loss')\n",
    "plt.xlabel('Epochs')\n",
    "plt.ylabel('Loss')\n",
    "plt.legend()\n",
    "\n",
    "plt.show()"
   ]
  },
  {
   "cell_type": "code",
   "execution_count": 62,
   "id": "7405562f",
   "metadata": {},
   "outputs": [
    {
     "name": "stdout",
     "output_type": "stream",
     "text": [
      "\u001b[1m2/2\u001b[0m \u001b[32m━━━━━━━━━━━━━━━━━━━━\u001b[0m\u001b[37m\u001b[0m \u001b[1m15s\u001b[0m 4s/step\n"
     ]
    }
   ],
   "source": [
    "test_gen.reset()\n",
    "y_pred = convnext_model.predict(test_gen)\n",
    "y_pred_classes = np.argmax(y_pred, axis=1)\n",
    "y_true = test_gen.classes"
   ]
  },
  {
   "cell_type": "code",
   "execution_count": 63,
   "id": "62bdffce",
   "metadata": {},
   "outputs": [
    {
     "name": "stdout",
     "output_type": "stream",
     "text": [
      "              precision    recall  f1-score   support\n",
      "\n",
      "512-lora-ori       0.74      0.85      0.79        20\n",
      "     512-ori       0.82      0.70      0.76        20\n",
      "\n",
      "    accuracy                           0.78        40\n",
      "   macro avg       0.78      0.77      0.77        40\n",
      "weighted avg       0.78      0.78      0.77        40\n",
      "\n"
     ]
    }
   ],
   "source": [
    "class_labels = list(test_gen.class_indices.keys())\n",
    "print(classification_report(y_true, y_pred_classes, target_names=class_labels))"
   ]
  },
  {
   "cell_type": "code",
   "execution_count": 64,
   "id": "b46e824c",
   "metadata": {},
   "outputs": [
    {
     "data": {
      "image/png": "[encoded data removed]",
      "text/plain": [
       "<Figure size 1000x800 with 2 Axes>"
      ]
     },
     "metadata": {},
     "output_type": "display_data"
    }
   ],
   "source": [
    "cm = confusion_matrix(y_true, y_pred_classes, normalize='true')\n",
    "\n",
    "plt.figure(figsize=(10, 8))\n",
    "sns.heatmap(cm, \n",
    "            annot=True, \n",
    "            fmt='.2f', \n",
    "            cmap='Blues', \n",
    "            xticklabels=class_labels, \n",
    "            yticklabels=class_labels)\n",
    "\n",
    "plt.title('Normalized Confusion Matrix')\n",
    "plt.xlabel('Predicted label')\n",
    "plt.ylabel('True label')\n",
    "plt.show()"
   ]
  }
 ],
 "metadata": {
  "kernelspec": {
   "display_name": ".venv",
   "language": "python",
   "name": "python3"
  },
  "language_info": {
   "codemirror_mode": {
    "name": "ipython",
    "version": 3
   },
   "file_extension": ".py",
   "mimetype": "text/x-python",
   "name": "python",
   "nbconvert_exporter": "python",
   "pygments_lexer": "ipython3",
   "version": "3.11.9"
  }
 },
 "nbformat": 4,
 "nbformat_minor": 5
}
