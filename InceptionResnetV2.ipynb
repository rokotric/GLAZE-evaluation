{
 "cells": [
  {
   "cell_type": "markdown",
   "id": "a5322d07",
   "metadata": {},
   "source": [
    "# Import Libraries"
   ]
  },
  {
   "cell_type": "code",
   "execution_count": 90,
   "id": "806bbd3b",
   "metadata": {},
   "outputs": [
    {
     "name": "stdout",
     "output_type": "stream",
     "text": [
      "Modules Loaded\n"
     ]
    }
   ],
   "source": [
    "import os\n",
    "import datetime\n",
    "import itertools\n",
    "\n",
    "import numpy as np\n",
    "import pandas as pd\n",
    "import seaborn as sns\n",
    "import matplotlib.pyplot as plt\n",
    "from sklearn.model_selection import train_test_split\n",
    "from sklearn.metrics import classification_report, confusion_matrix\n",
    "\n",
    "import tensorflow as tf\n",
    "from tensorflow import keras\n",
    "from tensorflow.keras.models import Model\n",
    "from tensorflow.keras.optimizers import Adam\n",
    "from tensorflow.keras.preprocessing.image import ImageDataGenerator\n",
    "from tensorflow.keras.layers import Dense, Flatten, Dropout\n",
    "from tensorflow.keras.applications.inception_resnet_v2 import InceptionResNetV2\n",
    "from tensorflow.keras.callbacks import ModelCheckpoint, EarlyStopping, ReduceLROnPlateau\n",
    "\n",
    "import warnings\n",
    "warnings.filterwarnings('ignore')\n",
    "\n",
    "print('Modules Loaded')"
   ]
  },
  {
   "cell_type": "code",
   "execution_count": 91,
   "id": "d3d28d5e",
   "metadata": {},
   "outputs": [],
   "source": [
    "log_dir = r\"D:\\GLAZE-evaluation\\log\\\\\" + datetime.datetime.now().strftime(\"%Y%m%d-%H%M%S\")\n",
    "tensorboard_callback = tf.keras.callbacks.TensorBoard(log_dir=log_dir)"
   ]
  },
  {
   "cell_type": "markdown",
   "id": "cb4d054e",
   "metadata": {},
   "source": [
    "# Dataset Prep"
   ]
  },
  {
   "cell_type": "code",
   "execution_count": 92,
   "id": "302de14d",
   "metadata": {},
   "outputs": [],
   "source": [
    "data_path = r\"D:\\GLAZE-evaluation\\dataset\\train\"\n",
    "\n",
    "images = []\n",
    "labels = []\n",
    "\n",
    "for subfolder in os.listdir(data_path):\n",
    "    subfolder_path = os.path.join(data_path, subfolder)\n",
    "    if not os.path.isdir(subfolder_path):\n",
    "        continue\n",
    "\n",
    "    for image_filename in os.listdir(subfolder_path):\n",
    "        full_image_path = os.path.join(subfolder_path, image_filename)\n",
    "        images.append(full_image_path)\n",
    "        labels.append(subfolder)\n",
    "        \n",
    "data = pd.DataFrame({'image': images, 'label': labels})"
   ]
  },
  {
   "cell_type": "code",
   "execution_count": 93,
   "id": "73f2ccc8",
   "metadata": {},
   "outputs": [
    {
     "name": "stdout",
     "output_type": "stream",
     "text": [
      "Total images found: 400\n",
      "Train DF size: 320\n",
      "Validation DF size: 40\n",
      "Test DF size: 40\n"
     ]
    }
   ],
   "source": [
    "train_df, valid_test_df = train_test_split(\n",
    "    data, \n",
    "    test_size=0.2, # 20% for validation/test\n",
    "    stratify=data['label'], \n",
    "    random_state=123\n",
    ")\n",
    "\n",
    "valid_df, test_df = train_test_split(\n",
    "    valid_test_df, \n",
    "    test_size=0.5, # Split the 20% into two 10% halves\n",
    "    stratify=valid_test_df['label'], \n",
    "    random_state=123\n",
    ")\n",
    "\n",
    "train_df = train_df.reset_index(drop=True)\n",
    "valid_df = valid_df.reset_index(drop=True)\n",
    "test_df = test_df.reset_index(drop=True)\n",
    "\n",
    "print(f\"Total images found: {len(data)}\")\n",
    "print(f\"Train DF size: {len(train_df)}\")\n",
    "print(f\"Validation DF size: {len(valid_df)}\")\n",
    "print(f\"Test DF size: {len(test_df)}\")"
   ]
  },
  {
   "cell_type": "code",
   "execution_count": 94,
   "id": "19082418",
   "metadata": {},
   "outputs": [
    {
     "data": {
      "text/plain": [
       "(400, 2)"
      ]
     },
     "execution_count": 94,
     "metadata": {},
     "output_type": "execute_result"
    }
   ],
   "source": [
    "data.shape"
   ]
  },
  {
   "cell_type": "code",
   "execution_count": null,
   "id": "7010b2fd",
   "metadata": {},
   "outputs": [
    {
     "name": "stdout",
     "output_type": "stream",
     "text": [
      "Found 320 validated image filenames belonging to 2 classes.\n",
      "Found 40 validated image filenames belonging to 2 classes.\n",
      "Found 40 validated image filenames belonging to 2 classes.\n"
     ]
    }
   ],
   "source": [
    "img_size = (299, 299)\n",
    "channels = 3\n",
    "img_shape = (img_size[0], img_size[1], channels)\n",
    "batch_size = 32\n",
    "\n",
    "train_datagen = ImageDataGenerator(\n",
    "    rescale=1./255,\n",
    "    rotation_range=20,\n",
    "    width_shift_range=0.2,\n",
    "    height_shift_range=0.2,\n",
    "    shear_range=0.2,\n",
    "    zoom_range=0.2,\n",
    "    horizontal_flip=True,\n",
    "    fill_mode='nearest',\n",
    "    brightness_range=[0.8,1.2]\n",
    ")\n",
    "\n",
    "valid_test_datagen = ImageDataGenerator(rescale=1./255)\n",
    "\n",
    "rain_gen = train_datagen.flow_from_dataframe(\n",
    "    train_df,\n",
    "    x_col='image',\n",
    "    y_col='label',\n",
    "    target_size=img_size,\n",
    "    color_mode='rgb', \n",
    "    class_mode='binary',\n",
    "    batch_size=batch_size,\n",
    "    shuffle=True,\n",
    ")\n",
    "\n",
    "valid_gen = valid_test_datagen.flow_from_dataframe(\n",
    "    valid_df,\n",
    "    x_col='image',\n",
    "    y_col='label',\n",
    "    target_size=img_size,\n",
    "    class_mode='binary',\n",
    "    color_mode='rgb',\n",
    "    shuffle=False,\n",
    "    batch_size=batch_size\n",
    ")\n",
    "\n",
    "test_gen = valid_test_datagen.flow_from_dataframe(\n",
    "    test_df,\n",
    "    x_col='image',\n",
    "    y_col='label',\n",
    "    target_size=img_size,\n",
    "    class_mode='binary',\n",
    "    color_mode='rgb',\n",
    "    shuffle=False,\n",
    "    batch_size=batch_size\n",
    ")"
   ]
  },
  {
   "cell_type": "code",
   "execution_count": 96,
   "id": "fb5914b3",
   "metadata": {},
   "outputs": [
    {
     "name": "stdout",
     "output_type": "stream",
     "text": [
      "320\n",
      "40\n",
      "40\n"
     ]
    }
   ],
   "source": [
    "print(len(train_df))\n",
    "print(len(valid_df))\n",
    "print(len(test_df))"
   ]
  },
  {
   "cell_type": "markdown",
   "id": "481e4c3e",
   "metadata": {},
   "source": [
    "# InceptionResnetV2 tuning"
   ]
  },
  {
   "cell_type": "code",
   "execution_count": 97,
   "id": "708ddcfa",
   "metadata": {},
   "outputs": [],
   "source": [
    "base_model = InceptionResNetV2( \n",
    "    weights='imagenet', \n",
    "    include_top=False, \n",
    "    input_shape=img_shape )"
   ]
  },
  {
   "cell_type": "code",
   "execution_count": null,
   "id": "38127143",
   "metadata": {},
   "outputs": [],
   "source": [
    "for layer in base_model.layers:\n",
    "    layer.trainable = False"
   ]
  },
  {
   "cell_type": "code",
   "execution_count": 99,
   "id": "55309a8f",
   "metadata": {},
   "outputs": [],
   "source": [
    "x = base_model.output\n",
    "x = Flatten()(x)\n",
    "x = Dense(512, activation='relu')(x)\n",
    "x = Dropout(0.5)(x)\n",
    "x = Dense(256, activation='relu')(x)\n",
    "predictions = Dense(1, activation='sigmoid')(x)"
   ]
  },
  {
   "cell_type": "code",
   "execution_count": 100,
   "id": "beb41b1c",
   "metadata": {},
   "outputs": [],
   "source": [
    "x = base_model.output \n",
    "x = GlobalAveragePooling2D()(x) # <-- REPLACES FLATTEN \n",
    "x = Dense(512, activation='relu')(x) \n",
    "x = Dropout(0.5)(x)\n",
    "x = Dense(256, activation='relu')(x) \n",
    "predictions = Dense(1, activation='sigmoid')(x)"
   ]
  },
  {
   "cell_type": "code",
   "execution_count": 101,
   "id": "2a031e11",
   "metadata": {},
   "outputs": [],
   "source": [
    "model = Model(inputs=base_model.input, outputs=predictions)"
   ]
  },
  {
   "cell_type": "code",
   "execution_count": 102,
   "id": "32050258",
   "metadata": {},
   "outputs": [],
   "source": [
    "model.compile(\n",
    "    optimizer=Adam(learning_rate=0.001),\n",
    "    loss='binary_crossentropy',\n",
    "    metrics=['accuracy']\n",
    ")"
   ]
  },
  {
   "cell_type": "code",
   "execution_count": 103,
   "id": "8676113c",
   "metadata": {},
   "outputs": [],
   "source": [
    "checkpoint = ModelCheckpoint(\n",
    "    'roko_style.h5', \n",
    "    monitor='val_accuracy', \n",
    "    save_best_only=True, \n",
    "    mode='max', \n",
    "    verbose=1\n",
    ")\n",
    "\n",
    "early_stopping = EarlyStopping(\n",
    "    monitor='val_loss', \n",
    "    patience=5, \n",
    "    restore_best_weights=True\n",
    ")\n",
    "\n",
    "reduce_lr = ReduceLROnPlateau(\n",
    "    monitor='val_loss',\n",
    "    factor=0.2,\n",
    "    patience=3,\n",
    "    min_lr=0.00001,\n",
    ")"
   ]
  },
  {
   "cell_type": "code",
   "execution_count": 104,
   "id": "6462b7eb",
   "metadata": {},
   "outputs": [
    {
     "name": "stdout",
     "output_type": "stream",
     "text": [
      "Epoch 1/5\n",
      "\u001b[1m10/10\u001b[0m \u001b[32m━━━━━━━━━━━━━━━━━━━━\u001b[0m\u001b[37m\u001b[0m \u001b[1m0s\u001b[0m 5s/step - accuracy: 0.5576 - loss: 0.7254\n",
      "Epoch 1: val_accuracy improved from None to 0.75000, saving model to roko_style.h5\n"
     ]
    },
    {
     "name": "stderr",
     "output_type": "stream",
     "text": [
      "WARNING:absl:You are saving your model as an HDF5 file via `model.save()` or `keras.saving.save_model(model)`. This file format is considered legacy. We recommend using instead the native Keras format, e.g. `model.save('my_model.keras')` or `keras.saving.save_model(model, 'my_model.keras')`. \n"
     ]
    },
    {
     "name": "stdout",
     "output_type": "stream",
     "text": [
      "\u001b[1m10/10\u001b[0m \u001b[32m━━━━━━━━━━━━━━━━━━━━\u001b[0m\u001b[37m\u001b[0m \u001b[1m98s\u001b[0m 7s/step - accuracy: 0.6156 - loss: 0.6811 - val_accuracy: 0.7500 - val_loss: 0.5344 - learning_rate: 0.0010\n",
      "Epoch 2/5\n",
      "\u001b[1m10/10\u001b[0m \u001b[32m━━━━━━━━━━━━━━━━━━━━\u001b[0m\u001b[37m\u001b[0m \u001b[1m0s\u001b[0m 4s/step - accuracy: 0.7723 - loss: 0.5273\n",
      "Epoch 2: val_accuracy improved from 0.75000 to 0.78125, saving model to roko_style.h5\n"
     ]
    },
    {
     "name": "stderr",
     "output_type": "stream",
     "text": [
      "WARNING:absl:You are saving your model as an HDF5 file via `model.save()` or `keras.saving.save_model(model)`. This file format is considered legacy. We recommend using instead the native Keras format, e.g. `model.save('my_model.keras')` or `keras.saving.save_model(model, 'my_model.keras')`. \n"
     ]
    },
    {
     "name": "stdout",
     "output_type": "stream",
     "text": [
      "\u001b[1m10/10\u001b[0m \u001b[32m━━━━━━━━━━━━━━━━━━━━\u001b[0m\u001b[37m\u001b[0m \u001b[1m54s\u001b[0m 5s/step - accuracy: 0.7469 - loss: 0.5713 - val_accuracy: 0.7812 - val_loss: 0.4573 - learning_rate: 0.0010\n",
      "Epoch 3/5\n",
      "\u001b[1m10/10\u001b[0m \u001b[32m━━━━━━━━━━━━━━━━━━━━\u001b[0m\u001b[37m\u001b[0m \u001b[1m0s\u001b[0m 4s/step - accuracy: 0.7605 - loss: 0.5020\n",
      "Epoch 3: val_accuracy did not improve from 0.78125\n",
      "\u001b[1m10/10\u001b[0m \u001b[32m━━━━━━━━━━━━━━━━━━━━\u001b[0m\u001b[37m\u001b[0m \u001b[1m50s\u001b[0m 5s/step - accuracy: 0.7594 - loss: 0.5307 - val_accuracy: 0.7500 - val_loss: 0.5249 - learning_rate: 0.0010\n",
      "Epoch 4/5\n",
      "\u001b[1m10/10\u001b[0m \u001b[32m━━━━━━━━━━━━━━━━━━━━\u001b[0m\u001b[37m\u001b[0m \u001b[1m0s\u001b[0m 5s/step - accuracy: 0.8082 - loss: 0.4177\n",
      "Epoch 4: val_accuracy improved from 0.78125 to 0.81250, saving model to roko_style.h5\n"
     ]
    },
    {
     "name": "stderr",
     "output_type": "stream",
     "text": [
      "WARNING:absl:You are saving your model as an HDF5 file via `model.save()` or `keras.saving.save_model(model)`. This file format is considered legacy. We recommend using instead the native Keras format, e.g. `model.save('my_model.keras')` or `keras.saving.save_model(model, 'my_model.keras')`. \n"
     ]
    },
    {
     "name": "stdout",
     "output_type": "stream",
     "text": [
      "\u001b[1m10/10\u001b[0m \u001b[32m━━━━━━━━━━━━━━━━━━━━\u001b[0m\u001b[37m\u001b[0m \u001b[1m53s\u001b[0m 5s/step - accuracy: 0.8000 - loss: 0.4313 - val_accuracy: 0.8125 - val_loss: 0.4285 - learning_rate: 0.0010\n",
      "Epoch 5/5\n",
      "\u001b[1m10/10\u001b[0m \u001b[32m━━━━━━━━━━━━━━━━━━━━\u001b[0m\u001b[37m\u001b[0m \u001b[1m0s\u001b[0m 5s/step - accuracy: 0.8647 - loss: 0.3575\n",
      "Epoch 5: val_accuracy did not improve from 0.81250\n",
      "\u001b[1m10/10\u001b[0m \u001b[32m━━━━━━━━━━━━━━━━━━━━\u001b[0m\u001b[37m\u001b[0m \u001b[1m53s\u001b[0m 5s/step - accuracy: 0.8469 - loss: 0.3992 - val_accuracy: 0.7812 - val_loss: 0.5074 - learning_rate: 0.0010\n"
     ]
    }
   ],
   "source": [
    "history = model.fit(\n",
    "    train_gen,\n",
    "    steps_per_epoch=train_gen.samples // batch_size,\n",
    "    validation_data=valid_gen,\n",
    "    validation_steps=valid_gen.samples // batch_size,\n",
    "    epochs=5,\n",
    "    callbacks=[checkpoint, early_stopping, reduce_lr, tensorboard_callback]\n",
    ")"
   ]
  },
  {
   "cell_type": "code",
   "execution_count": 105,
   "id": "c8d6b232",
   "metadata": {},
   "outputs": [
    {
     "name": "stderr",
     "output_type": "stream",
     "text": [
      "WARNING:absl:You are saving your model as an HDF5 file via `model.save()` or `keras.saving.save_model(model)`. This file format is considered legacy. We recommend using instead the native Keras format, e.g. `model.save('my_model.keras')` or `keras.saving.save_model(model, 'my_model.keras')`. \n"
     ]
    }
   ],
   "source": [
    "model.load_weights('roko_style.h5')\n",
    "model.save('roko_style_predictor.h5')"
   ]
  },
  {
   "cell_type": "markdown",
   "id": "112a433d",
   "metadata": {},
   "source": [
    "# Evaluation"
   ]
  },
  {
   "cell_type": "code",
   "execution_count": 106,
   "id": "f999eb19",
   "metadata": {},
   "outputs": [
    {
     "name": "stdout",
     "output_type": "stream",
     "text": [
      "\u001b[1m2/2\u001b[0m \u001b[32m━━━━━━━━━━━━━━━━━━━━\u001b[0m\u001b[37m\u001b[0m \u001b[1m6s\u001b[0m 1s/step - accuracy: 0.7750 - loss: 0.4084\n",
      "Test Accuracy: 0.7750\n",
      "Test Loss: 0.4084\n"
     ]
    }
   ],
   "source": [
    "test_loss, test_acc = model.evaluate(test_gen)\n",
    "print(f'Test Accuracy: {test_acc:.4f}')\n",
    "print(f'Test Loss: {test_loss:.4f}')"
   ]
  },
  {
   "cell_type": "code",
   "execution_count": 107,
   "id": "faa15de5",
   "metadata": {},
   "outputs": [
    {
     "data": {
      "image/png": "[encoded data removed]",
      "text/plain": [
       "<Figure size 1200x400 with 2 Axes>"
      ]
     },
     "metadata": {},
     "output_type": "display_data"
    }
   ],
   "source": [
    "plt.figure(figsize=(12,4))\n",
    "    \n",
    "    # Subplot Accuracy\n",
    "plt.subplot(1, 2, 1)\n",
    "plt.plot(history.history['accuracy'], label='Train Accuracy')\n",
    "plt.plot(history.history['val_accuracy'], label='Validation Accuracy')\n",
    "plt.title('Model Accuracy')\n",
    "plt.xlabel('Epochs')\n",
    "plt.ylabel('Accuracy')\n",
    "plt.legend()\n",
    "\n",
    "# Subplot Loss\n",
    "plt.subplot(1, 2, 2)\n",
    "plt.plot(history.history['loss'], label='Train Loss')\n",
    "plt.plot(history.history['val_loss'], label='Validation Loss')\n",
    "plt.title('Model Loss')\n",
    "plt.xlabel('Epochs')\n",
    "plt.ylabel('Loss')\n",
    "plt.legend()\n",
    "\n",
    "plt.show()"
   ]
  },
  {
   "cell_type": "code",
   "execution_count": 108,
   "id": "38d523d6",
   "metadata": {},
   "outputs": [
    {
     "name": "stdout",
     "output_type": "stream",
     "text": [
      "\u001b[1m2/2\u001b[0m \u001b[32m━━━━━━━━━━━━━━━━━━━━\u001b[0m\u001b[37m\u001b[0m \u001b[1m25s\u001b[0m 11s/step\n"
     ]
    }
   ],
   "source": [
    "test_gen.reset()\n",
    "y_pred = model.predict(test_gen)\n",
    "y_pred_classes = np.argmax(y_pred, axis=1)\n",
    "y_true = test_gen.classes"
   ]
  },
  {
   "cell_type": "code",
   "execution_count": 109,
   "id": "79b40d4a",
   "metadata": {},
   "outputs": [
    {
     "name": "stdout",
     "output_type": "stream",
     "text": [
      "              precision    recall  f1-score   support\n",
      "\n",
      "512-lora-ori       0.50      1.00      0.67        20\n",
      "     512-ori       0.00      0.00      0.00        20\n",
      "\n",
      "    accuracy                           0.50        40\n",
      "   macro avg       0.25      0.50      0.33        40\n",
      "weighted avg       0.25      0.50      0.33        40\n",
      "\n"
     ]
    }
   ],
   "source": [
    "class_labels = list(test_gen.class_indices.keys())\n",
    "print(classification_report(y_true, y_pred_classes, target_names=class_labels))"
   ]
  },
  {
   "cell_type": "code",
   "execution_count": 110,
   "id": "de50b7e8",
   "metadata": {},
   "outputs": [
    {
     "data": {
      "image/png": "[encoded data removed]",
      "text/plain": [
       "<Figure size 1000x800 with 2 Axes>"
      ]
     },
     "metadata": {},
     "output_type": "display_data"
    }
   ],
   "source": [
    "cm = confusion_matrix(y_true, y_pred_classes, normalize='true')\n",
    "\n",
    "plt.figure(figsize=(10, 8))\n",
    "sns.heatmap(cm, \n",
    "            annot=True, \n",
    "            fmt='.2f', \n",
    "            cmap='Blues', \n",
    "            xticklabels=class_labels, \n",
    "            yticklabels=class_labels)\n",
    "\n",
    "plt.title('Normalized Confusion Matrix')\n",
    "plt.xlabel('Predicted label')\n",
    "plt.ylabel('True label')\n",
    "plt.show()"
   ]
  }
 ],
 "metadata": {
  "kernelspec": {
   "display_name": ".venv",
   "language": "python",
   "name": "python3"
  },
  "language_info": {
   "codemirror_mode": {
    "name": "ipython",
    "version": 3
   },
   "file_extension": ".py",
   "mimetype": "text/x-python",
   "name": "python",
   "nbconvert_exporter": "python",
   "pygments_lexer": "ipython3",
   "version": "3.11.9"
  }
 },
 "nbformat": 4,
 "nbformat_minor": 5
}
